{
 "cells": [
  {
   "cell_type": "code",
   "execution_count": 54,
   "id": "b984dd91-404c-4f10-8083-7be8c2877ccf",
   "metadata": {},
   "outputs": [
    {
     "data": {
      "text/html": [
       "<div>\n",
       "<style scoped>\n",
       "    .dataframe tbody tr th:only-of-type {\n",
       "        vertical-align: middle;\n",
       "    }\n",
       "\n",
       "    .dataframe tbody tr th {\n",
       "        vertical-align: top;\n",
       "    }\n",
       "\n",
       "    .dataframe thead th {\n",
       "        text-align: right;\n",
       "    }\n",
       "</style>\n",
       "<table border=\"1\" class=\"dataframe\">\n",
       "  <thead>\n",
       "    <tr style=\"text-align: right;\">\n",
       "      <th></th>\n",
       "      <th>ID_Zindi</th>\n",
       "      <th>Date</th>\n",
       "      <th>ID</th>\n",
       "      <th>LAT</th>\n",
       "      <th>LON</th>\n",
       "      <th>Precipitation</th>\n",
       "      <th>LST</th>\n",
       "      <th>AAI</th>\n",
       "      <th>CloudFraction</th>\n",
       "      <th>NO2_strat</th>\n",
       "      <th>NO2_total</th>\n",
       "      <th>NO2_trop</th>\n",
       "      <th>TropopausePressure</th>\n",
       "      <th>GT_NO2</th>\n",
       "    </tr>\n",
       "  </thead>\n",
       "  <tbody>\n",
       "    <tr>\n",
       "      <th>0</th>\n",
       "      <td>ID_ENTGC7</td>\n",
       "      <td>1/1/19</td>\n",
       "      <td>PD01</td>\n",
       "      <td>45.601585</td>\n",
       "      <td>11.903551</td>\n",
       "      <td>0.000000</td>\n",
       "      <td>NaN</td>\n",
       "      <td>0.230527</td>\n",
       "      <td>0.559117</td>\n",
       "      <td>0.000024</td>\n",
       "      <td>0.000117</td>\n",
       "      <td>NaN</td>\n",
       "      <td>14440.82126</td>\n",
       "      <td>31.0</td>\n",
       "    </tr>\n",
       "    <tr>\n",
       "      <th>1</th>\n",
       "      <td>ID_8JCCXC</td>\n",
       "      <td>1/1/19</td>\n",
       "      <td>PD04</td>\n",
       "      <td>45.371005</td>\n",
       "      <td>11.840830</td>\n",
       "      <td>3.047342</td>\n",
       "      <td>NaN</td>\n",
       "      <td>-0.074006</td>\n",
       "      <td>0.869309</td>\n",
       "      <td>0.000024</td>\n",
       "      <td>0.000127</td>\n",
       "      <td>NaN</td>\n",
       "      <td>14441.79815</td>\n",
       "      <td>42.0</td>\n",
       "    </tr>\n",
       "    <tr>\n",
       "      <th>2</th>\n",
       "      <td>ID_V3136Z</td>\n",
       "      <td>1/1/19</td>\n",
       "      <td>RO01</td>\n",
       "      <td>45.045825</td>\n",
       "      <td>12.060869</td>\n",
       "      <td>0.000000</td>\n",
       "      <td>NaN</td>\n",
       "      <td>0.024470</td>\n",
       "      <td>0.674160</td>\n",
       "      <td>0.000024</td>\n",
       "      <td>0.000086</td>\n",
       "      <td>NaN</td>\n",
       "      <td>14437.38294</td>\n",
       "      <td>31.0</td>\n",
       "    </tr>\n",
       "    <tr>\n",
       "      <th>3</th>\n",
       "      <td>ID_KRVZDJ</td>\n",
       "      <td>1/1/19</td>\n",
       "      <td>RO02</td>\n",
       "      <td>45.104075</td>\n",
       "      <td>11.553241</td>\n",
       "      <td>1.200467</td>\n",
       "      <td>NaN</td>\n",
       "      <td>-0.010442</td>\n",
       "      <td>0.920054</td>\n",
       "      <td>0.000024</td>\n",
       "      <td>0.000124</td>\n",
       "      <td>NaN</td>\n",
       "      <td>14440.83831</td>\n",
       "      <td>30.0</td>\n",
       "    </tr>\n",
       "    <tr>\n",
       "      <th>4</th>\n",
       "      <td>ID_PR351A</td>\n",
       "      <td>1/1/19</td>\n",
       "      <td>RO03</td>\n",
       "      <td>45.038758</td>\n",
       "      <td>11.790152</td>\n",
       "      <td>1.274564</td>\n",
       "      <td>NaN</td>\n",
       "      <td>-0.176178</td>\n",
       "      <td>0.747464</td>\n",
       "      <td>0.000024</td>\n",
       "      <td>0.000116</td>\n",
       "      <td>NaN</td>\n",
       "      <td>14438.79037</td>\n",
       "      <td>58.0</td>\n",
       "    </tr>\n",
       "  </tbody>\n",
       "</table>\n",
       "</div>"
      ],
      "text/plain": [
       "    ID_Zindi    Date    ID        LAT        LON  Precipitation  LST  \\\n",
       "0  ID_ENTGC7  1/1/19  PD01  45.601585  11.903551       0.000000  NaN   \n",
       "1  ID_8JCCXC  1/1/19  PD04  45.371005  11.840830       3.047342  NaN   \n",
       "2  ID_V3136Z  1/1/19  RO01  45.045825  12.060869       0.000000  NaN   \n",
       "3  ID_KRVZDJ  1/1/19  RO02  45.104075  11.553241       1.200467  NaN   \n",
       "4  ID_PR351A  1/1/19  RO03  45.038758  11.790152       1.274564  NaN   \n",
       "\n",
       "        AAI  CloudFraction  NO2_strat  NO2_total  NO2_trop  \\\n",
       "0  0.230527       0.559117   0.000024   0.000117       NaN   \n",
       "1 -0.074006       0.869309   0.000024   0.000127       NaN   \n",
       "2  0.024470       0.674160   0.000024   0.000086       NaN   \n",
       "3 -0.010442       0.920054   0.000024   0.000124       NaN   \n",
       "4 -0.176178       0.747464   0.000024   0.000116       NaN   \n",
       "\n",
       "   TropopausePressure  GT_NO2  \n",
       "0         14440.82126    31.0  \n",
       "1         14441.79815    42.0  \n",
       "2         14437.38294    31.0  \n",
       "3         14440.83831    30.0  \n",
       "4         14438.79037    58.0  "
      ]
     },
     "execution_count": 54,
     "metadata": {},
     "output_type": "execute_result"
    }
   ],
   "source": [
    "import pandas as pd\n",
    "import numpy as np\n",
    "\n",
    "train = pd.read_csv(\"Train.csv\")\n",
    "\n",
    "train.head()"
   ]
  },
  {
   "cell_type": "code",
   "execution_count": 119,
   "id": "c61d7a35-4e5c-41b0-adf1-5d4fe31138b0",
   "metadata": {},
   "outputs": [],
   "source": [
    "# geo_data\n",
    "geo_data = pd.DataFrame()\n",
    "\n",
    "geo_data['lat'] = train['LAT']\n",
    "geo_data['lan'] = train['LON']\n",
    "geo_data['NO2'] = train['GT_NO2']\n",
    "\n",
    "geo_data = geo_data.dropna()\n",
    "\n",
    "\n",
    "# cordinates \n",
    "cordinates = pd.DataFrame()\n",
    "cordinates['lat'] = geo_data['lat']\n",
    "cordinates['lan'] = geo_data['lan']"
   ]
  },
  {
   "cell_type": "code",
   "execution_count": 120,
   "id": "548c30f1-1c75-464b-a902-c8495497e9ce",
   "metadata": {},
   "outputs": [
    {
     "data": {
      "text/html": [
       "<div>\n",
       "<style scoped>\n",
       "    .dataframe tbody tr th:only-of-type {\n",
       "        vertical-align: middle;\n",
       "    }\n",
       "\n",
       "    .dataframe tbody tr th {\n",
       "        vertical-align: top;\n",
       "    }\n",
       "\n",
       "    .dataframe thead th {\n",
       "        text-align: right;\n",
       "    }\n",
       "</style>\n",
       "<table border=\"1\" class=\"dataframe\">\n",
       "  <thead>\n",
       "    <tr style=\"text-align: right;\">\n",
       "      <th></th>\n",
       "      <th>lat</th>\n",
       "      <th>lan</th>\n",
       "    </tr>\n",
       "  </thead>\n",
       "  <tbody>\n",
       "    <tr>\n",
       "      <th>0</th>\n",
       "      <td>45.601585</td>\n",
       "      <td>11.903551</td>\n",
       "    </tr>\n",
       "    <tr>\n",
       "      <th>1</th>\n",
       "      <td>45.371005</td>\n",
       "      <td>11.840830</td>\n",
       "    </tr>\n",
       "    <tr>\n",
       "      <th>2</th>\n",
       "      <td>45.045825</td>\n",
       "      <td>12.060869</td>\n",
       "    </tr>\n",
       "    <tr>\n",
       "      <th>3</th>\n",
       "      <td>45.104075</td>\n",
       "      <td>11.553241</td>\n",
       "    </tr>\n",
       "    <tr>\n",
       "      <th>4</th>\n",
       "      <td>45.038758</td>\n",
       "      <td>11.790152</td>\n",
       "    </tr>\n",
       "    <tr>\n",
       "      <th>...</th>\n",
       "      <td>...</td>\n",
       "      <td>...</td>\n",
       "    </tr>\n",
       "    <tr>\n",
       "      <th>86579</th>\n",
       "      <td>45.498227</td>\n",
       "      <td>9.556232</td>\n",
       "    </tr>\n",
       "    <tr>\n",
       "      <th>86580</th>\n",
       "      <td>45.142541</td>\n",
       "      <td>10.043836</td>\n",
       "    </tr>\n",
       "    <tr>\n",
       "      <th>86581</th>\n",
       "      <td>45.842207</td>\n",
       "      <td>9.351658</td>\n",
       "    </tr>\n",
       "    <tr>\n",
       "      <th>86582</th>\n",
       "      <td>45.113503</td>\n",
       "      <td>8.874065</td>\n",
       "    </tr>\n",
       "    <tr>\n",
       "      <th>86583</th>\n",
       "      <td>45.526473</td>\n",
       "      <td>9.515980</td>\n",
       "    </tr>\n",
       "  </tbody>\n",
       "</table>\n",
       "<p>82051 rows × 2 columns</p>\n",
       "</div>"
      ],
      "text/plain": [
       "             lat        lan\n",
       "0      45.601585  11.903551\n",
       "1      45.371005  11.840830\n",
       "2      45.045825  12.060869\n",
       "3      45.104075  11.553241\n",
       "4      45.038758  11.790152\n",
       "...          ...        ...\n",
       "86579  45.498227   9.556232\n",
       "86580  45.142541  10.043836\n",
       "86581  45.842207   9.351658\n",
       "86582  45.113503   8.874065\n",
       "86583  45.526473   9.515980\n",
       "\n",
       "[82051 rows x 2 columns]"
      ]
     },
     "execution_count": 120,
     "metadata": {},
     "output_type": "execute_result"
    }
   ],
   "source": [
    "cordinates"
   ]
  },
  {
   "cell_type": "code",
   "execution_count": 121,
   "id": "fcbc55f6-4e35-4c0d-b286-8cd447dd2d75",
   "metadata": {},
   "outputs": [],
   "source": [
    "from sklearn.cluster import KMeans\n",
    "\n",
    "kmeans = KMeans(\n",
    "    init=\"random\",\n",
    "    n_clusters=5,\n",
    "    n_init=10,\n",
    "    max_iter=300,\n",
    "    random_state=42\n",
    ")"
   ]
  },
  {
   "cell_type": "code",
   "execution_count": 122,
   "id": "901fce74-9f6f-4441-8eb9-794ab82deaaf",
   "metadata": {},
   "outputs": [],
   "source": [
    "kmeans.fit(cordinates)\n",
    "labels = kmeans.labels_"
   ]
  },
  {
   "cell_type": "code",
   "execution_count": 123,
   "id": "7eaac7c2-d954-4a37-b255-36d8dc27bd65",
   "metadata": {},
   "outputs": [
    {
     "data": {
      "text/html": [
       "<div>\n",
       "<style scoped>\n",
       "    .dataframe tbody tr th:only-of-type {\n",
       "        vertical-align: middle;\n",
       "    }\n",
       "\n",
       "    .dataframe tbody tr th {\n",
       "        vertical-align: top;\n",
       "    }\n",
       "\n",
       "    .dataframe thead th {\n",
       "        text-align: right;\n",
       "    }\n",
       "</style>\n",
       "<table border=\"1\" class=\"dataframe\">\n",
       "  <thead>\n",
       "    <tr style=\"text-align: right;\">\n",
       "      <th></th>\n",
       "      <th>lat</th>\n",
       "      <th>lan</th>\n",
       "      <th>cluster</th>\n",
       "      <th>NO2</th>\n",
       "    </tr>\n",
       "  </thead>\n",
       "  <tbody>\n",
       "    <tr>\n",
       "      <th>0</th>\n",
       "      <td>45.601585</td>\n",
       "      <td>11.903551</td>\n",
       "      <td>4</td>\n",
       "      <td>31.000</td>\n",
       "    </tr>\n",
       "    <tr>\n",
       "      <th>1</th>\n",
       "      <td>45.371005</td>\n",
       "      <td>11.840830</td>\n",
       "      <td>4</td>\n",
       "      <td>42.000</td>\n",
       "    </tr>\n",
       "    <tr>\n",
       "      <th>2</th>\n",
       "      <td>45.045825</td>\n",
       "      <td>12.060869</td>\n",
       "      <td>4</td>\n",
       "      <td>31.000</td>\n",
       "    </tr>\n",
       "    <tr>\n",
       "      <th>3</th>\n",
       "      <td>45.104075</td>\n",
       "      <td>11.553241</td>\n",
       "      <td>1</td>\n",
       "      <td>30.000</td>\n",
       "    </tr>\n",
       "    <tr>\n",
       "      <th>4</th>\n",
       "      <td>45.038758</td>\n",
       "      <td>11.790152</td>\n",
       "      <td>4</td>\n",
       "      <td>58.000</td>\n",
       "    </tr>\n",
       "    <tr>\n",
       "      <th>...</th>\n",
       "      <td>...</td>\n",
       "      <td>...</td>\n",
       "      <td>...</td>\n",
       "      <td>...</td>\n",
       "    </tr>\n",
       "    <tr>\n",
       "      <th>86579</th>\n",
       "      <td>45.498227</td>\n",
       "      <td>9.556232</td>\n",
       "      <td>3</td>\n",
       "      <td>39.750</td>\n",
       "    </tr>\n",
       "    <tr>\n",
       "      <th>86580</th>\n",
       "      <td>45.142541</td>\n",
       "      <td>10.043836</td>\n",
       "      <td>2</td>\n",
       "      <td>30.125</td>\n",
       "    </tr>\n",
       "    <tr>\n",
       "      <th>86581</th>\n",
       "      <td>45.842207</td>\n",
       "      <td>9.351658</td>\n",
       "      <td>3</td>\n",
       "      <td>28.325</td>\n",
       "    </tr>\n",
       "    <tr>\n",
       "      <th>86582</th>\n",
       "      <td>45.113503</td>\n",
       "      <td>8.874065</td>\n",
       "      <td>0</td>\n",
       "      <td>21.250</td>\n",
       "    </tr>\n",
       "    <tr>\n",
       "      <th>86583</th>\n",
       "      <td>45.526473</td>\n",
       "      <td>9.515980</td>\n",
       "      <td>3</td>\n",
       "      <td>40.350</td>\n",
       "    </tr>\n",
       "  </tbody>\n",
       "</table>\n",
       "<p>82051 rows × 4 columns</p>\n",
       "</div>"
      ],
      "text/plain": [
       "             lat        lan  cluster     NO2\n",
       "0      45.601585  11.903551        4  31.000\n",
       "1      45.371005  11.840830        4  42.000\n",
       "2      45.045825  12.060869        4  31.000\n",
       "3      45.104075  11.553241        1  30.000\n",
       "4      45.038758  11.790152        4  58.000\n",
       "...          ...        ...      ...     ...\n",
       "86579  45.498227   9.556232        3  39.750\n",
       "86580  45.142541  10.043836        2  30.125\n",
       "86581  45.842207   9.351658        3  28.325\n",
       "86582  45.113503   8.874065        0  21.250\n",
       "86583  45.526473   9.515980        3  40.350\n",
       "\n",
       "[82051 rows x 4 columns]"
      ]
     },
     "execution_count": 123,
     "metadata": {},
     "output_type": "execute_result"
    }
   ],
   "source": [
    "cordinates['cluster'] = labels\n",
    "cordinates['NO2'] = geo_data['NO2']\n",
    "cordinates"
   ]
  },
  {
   "cell_type": "code",
   "execution_count": 124,
   "id": "00de09ed-46b0-4192-ad57-0666bd014f09",
   "metadata": {},
   "outputs": [
    {
     "data": {
      "image/png": "[encoded data removed]",
      "text/plain": [
       "<Figure size 640x480 with 1 Axes>"
      ]
     },
     "metadata": {},
     "output_type": "display_data"
    }
   ],
   "source": [
    "import matplotlib.pyplot as plt\n",
    "import seaborn as sns\n",
    "\n",
    "sns.boxplot(x='cluster', y='NO2', data=cordinates)\n",
    "plt.title(\"NO2 Levels across Clusters\")\n",
    "plt.show()"
   ]
  },
  {
   "cell_type": "code",
   "execution_count": 105,
   "id": "fba37f01-303d-485e-ac57-dcdf2609ca14",
   "metadata": {},
   "outputs": [],
   "source": [
    "from sklearn.model_selection import train_test_split\n",
    "from sklearn.datasets import make_regression\n",
    "from sklearn.ensemble import GradientBoostingRegressor\n",
    "import numpy as np\n",
    "\n",
    "X = cordinates['cluster']\n",
    "y = cordinates['NO2']\n",
    "\n",
    "X_train, X_test, y_train, y_test = train_test_split(X, y, random_state=94, test_size = 0.2)"
   ]
  },
  {
   "cell_type": "code",
   "execution_count": 106,
   "id": "941ac8a5-fdad-4cfa-9c17-87a26480a249",
   "metadata": {},
   "outputs": [],
   "source": [
    "X_train = np.expand_dims(X_train, axis = -1)"
   ]
  },
  {
   "cell_type": "code",
   "execution_count": 107,
   "id": "1dd243ab-8bc1-4810-bf37-5b6e4c5d4ca3",
   "metadata": {},
   "outputs": [
    {
     "data": {
      "text/html": [
       "<style>#sk-container-id-7 {color: black;}#sk-container-id-7 pre{padding: 0;}#sk-container-id-7 div.sk-toggleable {background-color: white;}#sk-container-id-7 label.sk-toggleable__label {cursor: pointer;display: block;width: 100%;margin-bottom: 0;padding: 0.3em;box-sizing: border-box;text-align: center;}#sk-container-id-7 label.sk-toggleable__label-arrow:before {content: \"▸\";float: left;margin-right: 0.25em;color: #696969;}#sk-container-id-7 label.sk-toggleable__label-arrow:hover:before {color: black;}#sk-container-id-7 div.sk-estimator:hover label.sk-toggleable__label-arrow:before {color: black;}#sk-container-id-7 div.sk-toggleable__content {max-height: 0;max-width: 0;overflow: hidden;text-align: left;background-color: #f0f8ff;}#sk-container-id-7 div.sk-toggleable__content pre {margin: 0.2em;color: black;border-radius: 0.25em;background-color: #f0f8ff;}#sk-container-id-7 input.sk-toggleable__control:checked~div.sk-toggleable__content {max-height: 200px;max-width: 100%;overflow: auto;}#sk-container-id-7 input.sk-toggleable__control:checked~label.sk-toggleable__label-arrow:before {content: \"▾\";}#sk-container-id-7 div.sk-estimator input.sk-toggleable__control:checked~label.sk-toggleable__label {background-color: #d4ebff;}#sk-container-id-7 div.sk-label input.sk-toggleable__control:checked~label.sk-toggleable__label {background-color: #d4ebff;}#sk-container-id-7 input.sk-hidden--visually {border: 0;clip: rect(1px 1px 1px 1px);clip: rect(1px, 1px, 1px, 1px);height: 1px;margin: -1px;overflow: hidden;padding: 0;position: absolute;width: 1px;}#sk-container-id-7 div.sk-estimator {font-family: monospace;background-color: #f0f8ff;border: 1px dotted black;border-radius: 0.25em;box-sizing: border-box;margin-bottom: 0.5em;}#sk-container-id-7 div.sk-estimator:hover {background-color: #d4ebff;}#sk-container-id-7 div.sk-parallel-item::after {content: \"\";width: 100%;border-bottom: 1px solid gray;flex-grow: 1;}#sk-container-id-7 div.sk-label:hover label.sk-toggleable__label {background-color: #d4ebff;}#sk-container-id-7 div.sk-serial::before {content: \"\";position: absolute;border-left: 1px solid gray;box-sizing: border-box;top: 0;bottom: 0;left: 50%;z-index: 0;}#sk-container-id-7 div.sk-serial {display: flex;flex-direction: column;align-items: center;background-color: white;padding-right: 0.2em;padding-left: 0.2em;position: relative;}#sk-container-id-7 div.sk-item {position: relative;z-index: 1;}#sk-container-id-7 div.sk-parallel {display: flex;align-items: stretch;justify-content: center;background-color: white;position: relative;}#sk-container-id-7 div.sk-item::before, #sk-container-id-7 div.sk-parallel-item::before {content: \"\";position: absolute;border-left: 1px solid gray;box-sizing: border-box;top: 0;bottom: 0;left: 50%;z-index: -1;}#sk-container-id-7 div.sk-parallel-item {display: flex;flex-direction: column;z-index: 1;position: relative;background-color: white;}#sk-container-id-7 div.sk-parallel-item:first-child::after {align-self: flex-end;width: 50%;}#sk-container-id-7 div.sk-parallel-item:last-child::after {align-self: flex-start;width: 50%;}#sk-container-id-7 div.sk-parallel-item:only-child::after {width: 0;}#sk-container-id-7 div.sk-dashed-wrapped {border: 1px dashed gray;margin: 0 0.4em 0.5em 0.4em;box-sizing: border-box;padding-bottom: 0.4em;background-color: white;}#sk-container-id-7 div.sk-label label {font-family: monospace;font-weight: bold;display: inline-block;line-height: 1.2em;}#sk-container-id-7 div.sk-label-container {text-align: center;}#sk-container-id-7 div.sk-container {/* jupyter's `normalize.less` sets `[hidden] { display: none; }` but bootstrap.min.css set `[hidden] { display: none !important; }` so we also need the `!important` here to be able to override the default hidden behavior on the sphinx rendered scikit-learn.org. See: https://github.com/scikit-learn/scikit-learn/issues/21755 */display: inline-block !important;position: relative;}#sk-container-id-7 div.sk-text-repr-fallback {display: none;}</style><div id=\"sk-container-id-7\" class=\"sk-top-container\"><div class=\"sk-text-repr-fallback\"><pre>GradientBoostingRegressor(random_state=0)</pre><b>In a Jupyter environment, please rerun this cell to show the HTML representation or trust the notebook. <br />On GitHub, the HTML representation is unable to render, please try loading this page with nbviewer.org.</b></div><div class=\"sk-container\" hidden><div class=\"sk-item\"><div class=\"sk-estimator sk-toggleable\"><input class=\"sk-toggleable__control sk-hidden--visually\" id=\"sk-estimator-id-7\" type=\"checkbox\" checked><label for=\"sk-estimator-id-7\" class=\"sk-toggleable__label sk-toggleable__label-arrow\">GradientBoostingRegressor</label><div class=\"sk-toggleable__content\"><pre>GradientBoostingRegressor(random_state=0)</pre></div></div></div></div></div>"
      ],
      "text/plain": [
       "GradientBoostingRegressor(random_state=0)"
      ]
     },
     "execution_count": 107,
     "metadata": {},
     "output_type": "execute_result"
    }
   ],
   "source": [
    "reg = GradientBoostingRegressor(random_state=0)\n",
    "reg.fit(X_train, y_train)"
   ]
  },
  {
   "cell_type": "code",
   "execution_count": 108,
   "id": "c34dd3bb-d42c-492f-bd65-c2d0a933fe01",
   "metadata": {},
   "outputs": [
    {
     "data": {
      "text/plain": [
       "0.1247801128712317"
      ]
     },
     "execution_count": 108,
     "metadata": {},
     "output_type": "execute_result"
    }
   ],
   "source": [
    "X_test = np.expand_dims(X_test, axis = -1)\n",
    "\n",
    "reg.score(X_test, y_test)"
   ]
  },
  {
   "cell_type": "code",
   "execution_count": 109,
   "id": "27475739-8930-4ee6-9c11-949682c31cbd",
   "metadata": {},
   "outputs": [],
   "source": [
    "test = pd.read_csv(\"Test.csv\")\n"
   ]
  },
  {
   "cell_type": "code",
   "execution_count": 110,
   "id": "9c5e5a90-5bd2-4481-b7ad-e4766d0d7227",
   "metadata": {},
   "outputs": [],
   "source": [
    "#cordinates\n",
    "test_cordinates = pd.DataFrame()\n",
    "\n",
    "test_cordinates['lat'] = test['LAT']\n",
    "test_cordinates['lan'] = test['LON']"
   ]
  },
  {
   "cell_type": "code",
   "execution_count": 111,
   "id": "47df8ce8-db96-4223-a52a-4e41f03466d4",
   "metadata": {},
   "outputs": [
    {
     "data": {
      "text/html": [
       "<div>\n",
       "<style scoped>\n",
       "    .dataframe tbody tr th:only-of-type {\n",
       "        vertical-align: middle;\n",
       "    }\n",
       "\n",
       "    .dataframe tbody tr th {\n",
       "        vertical-align: top;\n",
       "    }\n",
       "\n",
       "    .dataframe thead th {\n",
       "        text-align: right;\n",
       "    }\n",
       "</style>\n",
       "<table border=\"1\" class=\"dataframe\">\n",
       "  <thead>\n",
       "    <tr style=\"text-align: right;\">\n",
       "      <th></th>\n",
       "      <th>lat</th>\n",
       "      <th>lan</th>\n",
       "    </tr>\n",
       "  </thead>\n",
       "  <tbody>\n",
       "    <tr>\n",
       "      <th>0</th>\n",
       "      <td>45.289376</td>\n",
       "      <td>11.642394</td>\n",
       "    </tr>\n",
       "    <tr>\n",
       "      <th>1</th>\n",
       "      <td>45.836941</td>\n",
       "      <td>12.510362</td>\n",
       "    </tr>\n",
       "    <tr>\n",
       "      <th>2</th>\n",
       "      <td>45.582894</td>\n",
       "      <td>8.842165</td>\n",
       "    </tr>\n",
       "    <tr>\n",
       "      <th>3</th>\n",
       "      <td>45.131947</td>\n",
       "      <td>10.015742</td>\n",
       "    </tr>\n",
       "    <tr>\n",
       "      <th>4</th>\n",
       "      <td>45.186329</td>\n",
       "      <td>9.146666</td>\n",
       "    </tr>\n",
       "    <tr>\n",
       "      <th>...</th>\n",
       "      <td>...</td>\n",
       "      <td>...</td>\n",
       "    </tr>\n",
       "    <tr>\n",
       "      <th>6571</th>\n",
       "      <td>45.836941</td>\n",
       "      <td>12.510362</td>\n",
       "    </tr>\n",
       "    <tr>\n",
       "      <th>6572</th>\n",
       "      <td>45.582894</td>\n",
       "      <td>8.842165</td>\n",
       "    </tr>\n",
       "    <tr>\n",
       "      <th>6573</th>\n",
       "      <td>45.131947</td>\n",
       "      <td>10.015742</td>\n",
       "    </tr>\n",
       "    <tr>\n",
       "      <th>6574</th>\n",
       "      <td>45.186329</td>\n",
       "      <td>9.146666</td>\n",
       "    </tr>\n",
       "    <tr>\n",
       "      <th>6575</th>\n",
       "      <td>45.151743</td>\n",
       "      <td>10.781408</td>\n",
       "    </tr>\n",
       "  </tbody>\n",
       "</table>\n",
       "<p>6576 rows × 2 columns</p>\n",
       "</div>"
      ],
      "text/plain": [
       "            lat        lan\n",
       "0     45.289376  11.642394\n",
       "1     45.836941  12.510362\n",
       "2     45.582894   8.842165\n",
       "3     45.131947  10.015742\n",
       "4     45.186329   9.146666\n",
       "...         ...        ...\n",
       "6571  45.836941  12.510362\n",
       "6572  45.582894   8.842165\n",
       "6573  45.131947  10.015742\n",
       "6574  45.186329   9.146666\n",
       "6575  45.151743  10.781408\n",
       "\n",
       "[6576 rows x 2 columns]"
      ]
     },
     "execution_count": 111,
     "metadata": {},
     "output_type": "execute_result"
    }
   ],
   "source": [
    "test_cordinates"
   ]
  },
  {
   "cell_type": "code",
   "execution_count": 112,
   "id": "e20320f2-f9e4-4f19-8801-f61455f9b928",
   "metadata": {},
   "outputs": [],
   "source": [
    "test_clusters = kmeans.predict(test_cordinates)"
   ]
  },
  {
   "cell_type": "markdown",
   "id": "45473196-3739-40c7-b502-2ea335fb26ae",
   "metadata": {},
   "source": [
    "# Using cartesian product"
   ]
  },
  {
   "cell_type": "code",
   "execution_count": 2,
   "id": "6bf49c43-6568-4666-95d5-36512030eec3",
   "metadata": {},
   "outputs": [],
   "source": [
    "import pandas as pd\n",
    "\n",
    "train = pd.read_csv(\"Train.csv\")\n",
    "\n",
    "# geo_data\n",
    "geo_data = pd.DataFrame()\n",
    "\n",
    "geo_data['lat'] = train['LAT']\n",
    "geo_data['lan'] = train['LON']\n",
    "geo_data['NO2'] = train['GT_NO2']\n",
    "\n",
    "geo_data = geo_data.dropna()\n",
    "\n",
    "\n",
    "# cordinates \n",
    "cordinates = pd.DataFrame()\n",
    "cordinates['lat'] = geo_data['lat']\n",
    "cordinates['lan'] = geo_data['lan']"
   ]
  },
  {
   "cell_type": "code",
   "execution_count": 3,
   "id": "c06d5307-3cd9-4915-bc39-708dae7ec2ac",
   "metadata": {},
   "outputs": [],
   "source": [
    "def lat_lon_to_cartesian(lat, lon, radius=6371):\n",
    "    lat = np.radians(lat)\n",
    "    lon = np.radians(lon)\n",
    "    x = radius * np.cos(lat) * np.cos(lon)\n",
    "    y = radius * np.cos(lat) * np.sin(lon)\n",
    "    z = radius * np.sin(lat)\n",
    "    return np.array([x, y, z])"
   ]
  },
  {
   "cell_type": "code",
   "execution_count": 4,
   "id": "48d216dc-9f37-4104-a218-15d43767be34",
   "metadata": {},
   "outputs": [
    {
     "ename": "NameError",
     "evalue": "name 'np' is not defined",
     "output_type": "error",
     "traceback": [
      "\u001b[0;31m---------------------------------------------------------------------------\u001b[0m",
      "\u001b[0;31mNameError\u001b[0m                                 Traceback (most recent call last)",
      "Cell \u001b[0;32mIn[4], line 1\u001b[0m\n\u001b[0;32m----> 1\u001b[0m cartesian_data \u001b[38;5;241m=\u001b[39m \u001b[43mnp\u001b[49m\u001b[38;5;241m.\u001b[39marray([lat_lon_to_cartesian(lat, lon) \u001b[38;5;28;01mfor\u001b[39;00m lat, lon \u001b[38;5;129;01min\u001b[39;00m np\u001b[38;5;241m.\u001b[39marray(cordinates)])\n",
      "\u001b[0;31mNameError\u001b[0m: name 'np' is not defined"
     ]
    }
   ],
   "source": [
    "import numpy as np\n",
    "cartesian_data = np.array([lat_lon_to_cartesian(lat, lon) for lat, lon in np.array(cordinates)])"
   ]
  },
  {
   "cell_type": "code",
   "execution_count": 128,
   "id": "bc4bbb3b-0dd2-444b-b5ba-2be97abfa836",
   "metadata": {},
   "outputs": [
    {
     "data": {
      "text/plain": [
       "array([[4361.57759498,  919.41086942, 4552.02872752],\n",
       "       [4380.47535625,  918.38729248, 4534.05353236],\n",
       "       [4402.01024553,  940.56512202, 4508.57893904],\n",
       "       ...,\n",
       "       [4379.28666828,  721.19056155, 4570.70820015],\n",
       "       [4442.22552293,  693.57399946, 4513.89283332],\n",
       "       [4401.9745259 ,  737.90010675, 4546.18133226]])"
      ]
     },
     "execution_count": 128,
     "metadata": {},
     "output_type": "execute_result"
    }
   ],
   "source": []
  },
  {
   "cell_type": "code",
   "execution_count": 133,
   "id": "f377c89f-0f8f-4947-80a8-cdd9f128f751",
   "metadata": {},
   "outputs": [],
   "source": [
    "from sklearn.cluster import KMeans\n",
    "\n",
    "kmeans = KMeans(\n",
    "    init=\"random\",\n",
    "    n_clusters=20,\n",
    "    n_init=10,\n",
    "    max_iter=300,\n",
    "    random_state=42\n",
    ")"
   ]
  },
  {
   "cell_type": "code",
   "execution_count": 134,
   "id": "a232b9d6-a83c-4375-b5d8-588b33fe1896",
   "metadata": {},
   "outputs": [],
   "source": [
    "kmeans.fit(cartesian_data)\n",
    "labels = kmeans.labels_"
   ]
  },
  {
   "cell_type": "code",
   "execution_count": 135,
   "id": "b4ef2804-3a09-48fd-945f-ee18ca4111a9",
   "metadata": {},
   "outputs": [
    {
     "data": {
      "text/html": [
       "<div>\n",
       "<style scoped>\n",
       "    .dataframe tbody tr th:only-of-type {\n",
       "        vertical-align: middle;\n",
       "    }\n",
       "\n",
       "    .dataframe tbody tr th {\n",
       "        vertical-align: top;\n",
       "    }\n",
       "\n",
       "    .dataframe thead th {\n",
       "        text-align: right;\n",
       "    }\n",
       "</style>\n",
       "<table border=\"1\" class=\"dataframe\">\n",
       "  <thead>\n",
       "    <tr style=\"text-align: right;\">\n",
       "      <th></th>\n",
       "      <th>lat</th>\n",
       "      <th>lan</th>\n",
       "      <th>cluster</th>\n",
       "      <th>NO2</th>\n",
       "    </tr>\n",
       "  </thead>\n",
       "  <tbody>\n",
       "    <tr>\n",
       "      <th>0</th>\n",
       "      <td>45.601585</td>\n",
       "      <td>11.903551</td>\n",
       "      <td>16</td>\n",
       "      <td>31.000</td>\n",
       "    </tr>\n",
       "    <tr>\n",
       "      <th>1</th>\n",
       "      <td>45.371005</td>\n",
       "      <td>11.840830</td>\n",
       "      <td>14</td>\n",
       "      <td>42.000</td>\n",
       "    </tr>\n",
       "    <tr>\n",
       "      <th>2</th>\n",
       "      <td>45.045825</td>\n",
       "      <td>12.060869</td>\n",
       "      <td>2</td>\n",
       "      <td>31.000</td>\n",
       "    </tr>\n",
       "    <tr>\n",
       "      <th>3</th>\n",
       "      <td>45.104075</td>\n",
       "      <td>11.553241</td>\n",
       "      <td>11</td>\n",
       "      <td>30.000</td>\n",
       "    </tr>\n",
       "    <tr>\n",
       "      <th>4</th>\n",
       "      <td>45.038758</td>\n",
       "      <td>11.790152</td>\n",
       "      <td>11</td>\n",
       "      <td>58.000</td>\n",
       "    </tr>\n",
       "    <tr>\n",
       "      <th>...</th>\n",
       "      <td>...</td>\n",
       "      <td>...</td>\n",
       "      <td>...</td>\n",
       "      <td>...</td>\n",
       "    </tr>\n",
       "    <tr>\n",
       "      <th>86579</th>\n",
       "      <td>45.498227</td>\n",
       "      <td>9.556232</td>\n",
       "      <td>1</td>\n",
       "      <td>39.750</td>\n",
       "    </tr>\n",
       "    <tr>\n",
       "      <th>86580</th>\n",
       "      <td>45.142541</td>\n",
       "      <td>10.043836</td>\n",
       "      <td>8</td>\n",
       "      <td>30.125</td>\n",
       "    </tr>\n",
       "    <tr>\n",
       "      <th>86581</th>\n",
       "      <td>45.842207</td>\n",
       "      <td>9.351658</td>\n",
       "      <td>10</td>\n",
       "      <td>28.325</td>\n",
       "    </tr>\n",
       "    <tr>\n",
       "      <th>86582</th>\n",
       "      <td>45.113503</td>\n",
       "      <td>8.874065</td>\n",
       "      <td>3</td>\n",
       "      <td>21.250</td>\n",
       "    </tr>\n",
       "    <tr>\n",
       "      <th>86583</th>\n",
       "      <td>45.526473</td>\n",
       "      <td>9.515980</td>\n",
       "      <td>1</td>\n",
       "      <td>40.350</td>\n",
       "    </tr>\n",
       "  </tbody>\n",
       "</table>\n",
       "<p>82051 rows × 4 columns</p>\n",
       "</div>"
      ],
      "text/plain": [
       "             lat        lan  cluster     NO2\n",
       "0      45.601585  11.903551       16  31.000\n",
       "1      45.371005  11.840830       14  42.000\n",
       "2      45.045825  12.060869        2  31.000\n",
       "3      45.104075  11.553241       11  30.000\n",
       "4      45.038758  11.790152       11  58.000\n",
       "...          ...        ...      ...     ...\n",
       "86579  45.498227   9.556232        1  39.750\n",
       "86580  45.142541  10.043836        8  30.125\n",
       "86581  45.842207   9.351658       10  28.325\n",
       "86582  45.113503   8.874065        3  21.250\n",
       "86583  45.526473   9.515980        1  40.350\n",
       "\n",
       "[82051 rows x 4 columns]"
      ]
     },
     "execution_count": 135,
     "metadata": {},
     "output_type": "execute_result"
    }
   ],
   "source": [
    "cordinates['cluster'] = labels\n",
    "cordinates['NO2'] = geo_data['NO2']\n",
    "cordinates"
   ]
  },
  {
   "cell_type": "code",
   "execution_count": 136,
   "id": "b58aea99-a924-4e6a-b2cc-36c0b43a6ee8",
   "metadata": {},
   "outputs": [
    {
     "data": {
      "image/png": "[encoded data removed]",
      "text/plain": [
       "<Figure size 640x480 with 1 Axes>"
      ]
     },
     "metadata": {},
     "output_type": "display_data"
    }
   ],
   "source": [
    "import matplotlib.pyplot as plt\n",
    "import seaborn as sns\n",
    "\n",
    "sns.boxplot(x='cluster', y='NO2', data=cordinates)\n",
    "plt.title(\"NO2 Levels across Clusters\")\n",
    "plt.show()"
   ]
  },
  {
   "cell_type": "markdown",
   "id": "1603f1a7-29d2-4901-8483-169a3ce8def2",
   "metadata": {},
   "source": [
    "# HDBSCAN"
   ]
  },
  {
   "cell_type": "code",
   "execution_count": 66,
   "id": "276cadf9-edbe-45f9-9fad-3b65f0290d99",
   "metadata": {},
   "outputs": [],
   "source": [
    "import pandas as pd\n",
    "import numpy as np\n",
    "\n",
    "train = pd.read_csv(\"Train.csv\")\n",
    "\n",
    "# geo_data\n",
    "geo_data = pd.DataFrame()\n",
    "\n",
    "geo_data['lat'] = train['LAT']\n",
    "geo_data['lan'] = train['LON']\n",
    "geo_data['NO2'] = train['GT_NO2']\n",
    "\n",
    "geo_data = geo_data.dropna()"
   ]
  },
  {
   "cell_type": "code",
   "execution_count": 67,
   "id": "688d0f65-75e6-4bad-b050-38e9b1688e28",
   "metadata": {},
   "outputs": [
    {
     "name": "stdout",
     "output_type": "stream",
     "text": [
      "79509\n",
      "82051\n"
     ]
    }
   ],
   "source": [
    "# filter out outliers \n",
    "\n",
    "Q1 = geo_data['NO2'].quantile(0.25)\n",
    "Q3 = geo_data['NO2'].quantile(0.75)\n",
    "IQR = Q3 - Q1\n",
    "\n",
    "lower_bound = Q1 - 1.5 * IQR\n",
    "upper_bound = Q3 + 1.5 * IQR\n",
    "\n",
    "filtered_data = geo_data[(geo_data['NO2'] >= lower_bound) & (geo_data['NO2'] <= upper_bound)]\n",
    "\n",
    "print(len(filtered_data))\n",
    "print(len(geo_data))"
   ]
  },
  {
   "cell_type": "code",
   "execution_count": 68,
   "id": "005a96b8-b51b-42c1-9543-8581c7606b64",
   "metadata": {},
   "outputs": [],
   "source": [
    "# cordinates \n",
    "cordinates = pd.DataFrame()\n",
    "cordinates['lat'] = filtered_data['lat']\n",
    "cordinates['lan'] = filtered_data['lan']"
   ]
  },
  {
   "cell_type": "code",
   "execution_count": 69,
   "id": "6cbe9519-06b1-49cc-9302-46ad5b7241b2",
   "metadata": {},
   "outputs": [],
   "source": [
    "def lat_lon_to_cartesian(lat, lon, radius=6371):\n",
    "    lat = np.radians(lat)\n",
    "    lon = np.radians(lon)\n",
    "    x = radius * np.cos(lat) * np.cos(lon)\n",
    "    y = radius * np.cos(lat) * np.sin(lon)\n",
    "    z = radius * np.sin(lat)\n",
    "    return np.array([x, y, z])\n",
    "\n",
    "cordinates = np.array(cordinates)\n",
    "\n",
    "cartesian_cordinates = np.array([lat_lon_to_cartesian(lat, lon) for lat, lon in cordinates])"
   ]
  },
  {
   "cell_type": "code",
   "execution_count": 70,
   "id": "3ec9337e-dc95-467e-ac0e-226f88e20117",
   "metadata": {},
   "outputs": [],
   "source": [
    "from sklearn.cluster import DBSCAN\n",
    "\n",
    "cartesian_cordinates = np.array(cartesian_cordinates)\n",
    "\n",
    "clustering = DBSCAN(eps=5, min_samples=5).fit(cartesian_cordinates)\n",
    "\n",
    "labels = clustering.labels_"
   ]
  },
  {
   "cell_type": "code",
   "execution_count": 71,
   "id": "5ccd1417-c37d-4b02-9b38-7d4a22f50fba",
   "metadata": {},
   "outputs": [
    {
     "data": {
      "text/plain": [
       "array([ 0,  1,  2,  3,  4,  5,  6,  7,  8,  9, 10, 11, 12, 13, 14, 15, 16,\n",
       "       17, 18, 19, 20, 21, 22, 23, 24, 25, 26, 27, 28, 29, 30, 31, 32, 33,\n",
       "       34, 35, 36, 37, 38, 39, 40, 41, 42, 43, 44, 45, 46, 47, 48, 49, 50,\n",
       "       51, 52, 53, 54, 55, 56, 57, 58, 59, 60, 61])"
      ]
     },
     "execution_count": 71,
     "metadata": {},
     "output_type": "execute_result"
    }
   ],
   "source": [
    "np.unique(labels)"
   ]
  },
  {
   "cell_type": "code",
   "execution_count": 72,
   "id": "a59920b7-7cff-406e-9f2d-55823e83a65d",
   "metadata": {},
   "outputs": [],
   "source": [
    "cordinates = pd.DataFrame()\n",
    "cordinates['lat'] = filtered_data['lat']\n",
    "cordinates['lan'] = filtered_data['lan']\n",
    "cordinates['clusters'] = labels\n",
    "cordinates['NO2'] = filtered_data['NO2']"
   ]
  },
  {
   "cell_type": "code",
   "execution_count": 73,
   "id": "c506e12a-e3c6-4c12-a86c-fa0c8204114f",
   "metadata": {},
   "outputs": [
    {
     "data": {
      "image/png": "[encoded data removed]",
      "text/plain": [
       "<Figure size 640x480 with 1 Axes>"
      ]
     },
     "metadata": {},
     "output_type": "display_data"
    }
   ],
   "source": [
    "import matplotlib.pyplot as plt\n",
    "import seaborn as sns\n",
    "\n",
    "sns.boxplot(x='clusters', y='NO2', data=cordinates)\n",
    "plt.title(\"NO2 Levels across Clusters\")\n",
    "plt.show()"
   ]
  },
  {
   "cell_type": "code",
   "execution_count": 74,
   "id": "e3433427-19fb-4246-8f57-b3b84c01f37a",
   "metadata": {},
   "outputs": [
    {
     "data": {
      "text/html": [
       "<div>\n",
       "<style scoped>\n",
       "    .dataframe tbody tr th:only-of-type {\n",
       "        vertical-align: middle;\n",
       "    }\n",
       "\n",
       "    .dataframe tbody tr th {\n",
       "        vertical-align: top;\n",
       "    }\n",
       "\n",
       "    .dataframe thead th {\n",
       "        text-align: right;\n",
       "    }\n",
       "</style>\n",
       "<table border=\"1\" class=\"dataframe\">\n",
       "  <thead>\n",
       "    <tr style=\"text-align: right;\">\n",
       "      <th></th>\n",
       "      <th>lat</th>\n",
       "      <th>lan</th>\n",
       "      <th>clusters</th>\n",
       "      <th>NO2</th>\n",
       "    </tr>\n",
       "  </thead>\n",
       "  <tbody>\n",
       "    <tr>\n",
       "      <th>0</th>\n",
       "      <td>45.601585</td>\n",
       "      <td>11.903551</td>\n",
       "      <td>0</td>\n",
       "      <td>31.000</td>\n",
       "    </tr>\n",
       "    <tr>\n",
       "      <th>1</th>\n",
       "      <td>45.371005</td>\n",
       "      <td>11.840830</td>\n",
       "      <td>1</td>\n",
       "      <td>42.000</td>\n",
       "    </tr>\n",
       "    <tr>\n",
       "      <th>2</th>\n",
       "      <td>45.045825</td>\n",
       "      <td>12.060869</td>\n",
       "      <td>2</td>\n",
       "      <td>31.000</td>\n",
       "    </tr>\n",
       "    <tr>\n",
       "      <th>3</th>\n",
       "      <td>45.104075</td>\n",
       "      <td>11.553241</td>\n",
       "      <td>3</td>\n",
       "      <td>30.000</td>\n",
       "    </tr>\n",
       "    <tr>\n",
       "      <th>4</th>\n",
       "      <td>45.038758</td>\n",
       "      <td>11.790152</td>\n",
       "      <td>4</td>\n",
       "      <td>58.000</td>\n",
       "    </tr>\n",
       "    <tr>\n",
       "      <th>...</th>\n",
       "      <td>...</td>\n",
       "      <td>...</td>\n",
       "      <td>...</td>\n",
       "      <td>...</td>\n",
       "    </tr>\n",
       "    <tr>\n",
       "      <th>86579</th>\n",
       "      <td>45.498227</td>\n",
       "      <td>9.556232</td>\n",
       "      <td>41</td>\n",
       "      <td>39.750</td>\n",
       "    </tr>\n",
       "    <tr>\n",
       "      <th>86580</th>\n",
       "      <td>45.142541</td>\n",
       "      <td>10.043836</td>\n",
       "      <td>58</td>\n",
       "      <td>30.125</td>\n",
       "    </tr>\n",
       "    <tr>\n",
       "      <th>86581</th>\n",
       "      <td>45.842207</td>\n",
       "      <td>9.351658</td>\n",
       "      <td>59</td>\n",
       "      <td>28.325</td>\n",
       "    </tr>\n",
       "    <tr>\n",
       "      <th>86582</th>\n",
       "      <td>45.113503</td>\n",
       "      <td>8.874065</td>\n",
       "      <td>27</td>\n",
       "      <td>21.250</td>\n",
       "    </tr>\n",
       "    <tr>\n",
       "      <th>86583</th>\n",
       "      <td>45.526473</td>\n",
       "      <td>9.515980</td>\n",
       "      <td>41</td>\n",
       "      <td>40.350</td>\n",
       "    </tr>\n",
       "  </tbody>\n",
       "</table>\n",
       "<p>79509 rows × 4 columns</p>\n",
       "</div>"
      ],
      "text/plain": [
       "             lat        lan  clusters     NO2\n",
       "0      45.601585  11.903551         0  31.000\n",
       "1      45.371005  11.840830         1  42.000\n",
       "2      45.045825  12.060869         2  31.000\n",
       "3      45.104075  11.553241         3  30.000\n",
       "4      45.038758  11.790152         4  58.000\n",
       "...          ...        ...       ...     ...\n",
       "86579  45.498227   9.556232        41  39.750\n",
       "86580  45.142541  10.043836        58  30.125\n",
       "86581  45.842207   9.351658        59  28.325\n",
       "86582  45.113503   8.874065        27  21.250\n",
       "86583  45.526473   9.515980        41  40.350\n",
       "\n",
       "[79509 rows x 4 columns]"
      ]
     },
     "execution_count": 74,
     "metadata": {},
     "output_type": "execute_result"
    }
   ],
   "source": [
    "cordinates"
   ]
  },
  {
   "cell_type": "code",
   "execution_count": 75,
   "id": "f2dd2dbf-5981-48cf-a806-e6f757cd4b7b",
   "metadata": {},
   "outputs": [
    {
     "data": {
      "text/html": [
       "<style>#sk-container-id-3 {color: black;}#sk-container-id-3 pre{padding: 0;}#sk-container-id-3 div.sk-toggleable {background-color: white;}#sk-container-id-3 label.sk-toggleable__label {cursor: pointer;display: block;width: 100%;margin-bottom: 0;padding: 0.3em;box-sizing: border-box;text-align: center;}#sk-container-id-3 label.sk-toggleable__label-arrow:before {content: \"▸\";float: left;margin-right: 0.25em;color: #696969;}#sk-container-id-3 label.sk-toggleable__label-arrow:hover:before {color: black;}#sk-container-id-3 div.sk-estimator:hover label.sk-toggleable__label-arrow:before {color: black;}#sk-container-id-3 div.sk-toggleable__content {max-height: 0;max-width: 0;overflow: hidden;text-align: left;background-color: #f0f8ff;}#sk-container-id-3 div.sk-toggleable__content pre {margin: 0.2em;color: black;border-radius: 0.25em;background-color: #f0f8ff;}#sk-container-id-3 input.sk-toggleable__control:checked~div.sk-toggleable__content {max-height: 200px;max-width: 100%;overflow: auto;}#sk-container-id-3 input.sk-toggleable__control:checked~label.sk-toggleable__label-arrow:before {content: \"▾\";}#sk-container-id-3 div.sk-estimator input.sk-toggleable__control:checked~label.sk-toggleable__label {background-color: #d4ebff;}#sk-container-id-3 div.sk-label input.sk-toggleable__control:checked~label.sk-toggleable__label {background-color: #d4ebff;}#sk-container-id-3 input.sk-hidden--visually {border: 0;clip: rect(1px 1px 1px 1px);clip: rect(1px, 1px, 1px, 1px);height: 1px;margin: -1px;overflow: hidden;padding: 0;position: absolute;width: 1px;}#sk-container-id-3 div.sk-estimator {font-family: monospace;background-color: #f0f8ff;border: 1px dotted black;border-radius: 0.25em;box-sizing: border-box;margin-bottom: 0.5em;}#sk-container-id-3 div.sk-estimator:hover {background-color: #d4ebff;}#sk-container-id-3 div.sk-parallel-item::after {content: \"\";width: 100%;border-bottom: 1px solid gray;flex-grow: 1;}#sk-container-id-3 div.sk-label:hover label.sk-toggleable__label {background-color: #d4ebff;}#sk-container-id-3 div.sk-serial::before {content: \"\";position: absolute;border-left: 1px solid gray;box-sizing: border-box;top: 0;bottom: 0;left: 50%;z-index: 0;}#sk-container-id-3 div.sk-serial {display: flex;flex-direction: column;align-items: center;background-color: white;padding-right: 0.2em;padding-left: 0.2em;position: relative;}#sk-container-id-3 div.sk-item {position: relative;z-index: 1;}#sk-container-id-3 div.sk-parallel {display: flex;align-items: stretch;justify-content: center;background-color: white;position: relative;}#sk-container-id-3 div.sk-item::before, #sk-container-id-3 div.sk-parallel-item::before {content: \"\";position: absolute;border-left: 1px solid gray;box-sizing: border-box;top: 0;bottom: 0;left: 50%;z-index: -1;}#sk-container-id-3 div.sk-parallel-item {display: flex;flex-direction: column;z-index: 1;position: relative;background-color: white;}#sk-container-id-3 div.sk-parallel-item:first-child::after {align-self: flex-end;width: 50%;}#sk-container-id-3 div.sk-parallel-item:last-child::after {align-self: flex-start;width: 50%;}#sk-container-id-3 div.sk-parallel-item:only-child::after {width: 0;}#sk-container-id-3 div.sk-dashed-wrapped {border: 1px dashed gray;margin: 0 0.4em 0.5em 0.4em;box-sizing: border-box;padding-bottom: 0.4em;background-color: white;}#sk-container-id-3 div.sk-label label {font-family: monospace;font-weight: bold;display: inline-block;line-height: 1.2em;}#sk-container-id-3 div.sk-label-container {text-align: center;}#sk-container-id-3 div.sk-container {/* jupyter's `normalize.less` sets `[hidden] { display: none; }` but bootstrap.min.css set `[hidden] { display: none !important; }` so we also need the `!important` here to be able to override the default hidden behavior on the sphinx rendered scikit-learn.org. See: https://github.com/scikit-learn/scikit-learn/issues/21755 */display: inline-block !important;position: relative;}#sk-container-id-3 div.sk-text-repr-fallback {display: none;}</style><div id=\"sk-container-id-3\" class=\"sk-top-container\"><div class=\"sk-text-repr-fallback\"><pre>GradientBoostingRegressor(random_state=0)</pre><b>In a Jupyter environment, please rerun this cell to show the HTML representation or trust the notebook. <br />On GitHub, the HTML representation is unable to render, please try loading this page with nbviewer.org.</b></div><div class=\"sk-container\" hidden><div class=\"sk-item\"><div class=\"sk-estimator sk-toggleable\"><input class=\"sk-toggleable__control sk-hidden--visually\" id=\"sk-estimator-id-3\" type=\"checkbox\" checked><label for=\"sk-estimator-id-3\" class=\"sk-toggleable__label sk-toggleable__label-arrow\">GradientBoostingRegressor</label><div class=\"sk-toggleable__content\"><pre>GradientBoostingRegressor(random_state=0)</pre></div></div></div></div></div>"
      ],
      "text/plain": [
       "GradientBoostingRegressor(random_state=0)"
      ]
     },
     "execution_count": 75,
     "metadata": {},
     "output_type": "execute_result"
    }
   ],
   "source": [
    "from sklearn.model_selection import train_test_split\n",
    "from sklearn.datasets import make_regression\n",
    "from sklearn.ensemble import GradientBoostingRegressor\n",
    "import numpy as np\n",
    "\n",
    "X = cordinates['clusters']\n",
    "y = cordinates['NO2']\n",
    "\n",
    "X_train, X_test, y_train, y_test = train_test_split(X, y, random_state=94, test_size = 0.2)\n",
    "\n",
    "X_train = np.expand_dims(X_train, axis = -1)\n",
    "\n",
    "reg = GradientBoostingRegressor(random_state=0)\n",
    "reg.fit(X_train, y_train)"
   ]
  },
  {
   "cell_type": "code",
   "execution_count": 76,
   "id": "9291fbbb-b493-4354-b7d5-14624d3a457c",
   "metadata": {},
   "outputs": [
    {
     "data": {
      "text/plain": [
       "0.13091328475876496"
      ]
     },
     "execution_count": 76,
     "metadata": {},
     "output_type": "execute_result"
    }
   ],
   "source": [
    "X_test = np.expand_dims(X_test, axis = -1)\n",
    "\n",
    "reg.score(X_test, y_test)"
   ]
  },
  {
   "cell_type": "code",
   "execution_count": null,
   "id": "bc13c13c-c7d1-4e91-85ee-4fe7073b90d0",
   "metadata": {},
   "outputs": [],
   "source": []
  }
 ],
 "metadata": {
  "kernelspec": {
   "display_name": "Python 3",
   "language": "python",
   "name": "python3"
  },
  "language_info": {
   "codemirror_mode": {
    "name": "ipython",
    "version": 3
   },
   "file_extension": ".py",
   "mimetype": "text/x-python",
   "name": "python",
   "nbconvert_exporter": "python",
   "pygments_lexer": "ipython3",
   "version": "3.10.10"
  }
 },
 "nbformat": 4,
 "nbformat_minor": 5
}
